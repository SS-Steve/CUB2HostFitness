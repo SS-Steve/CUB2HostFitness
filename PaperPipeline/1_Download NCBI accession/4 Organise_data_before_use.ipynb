{
 "cells": [
  {
   "attachments": {},
   "cell_type": "markdown",
   "metadata": {},
   "source": [
    "### Import basic requirements"
   ]
  },
  {
   "cell_type": "code",
   "execution_count": 1,
   "metadata": {},
   "outputs": [],
   "source": [
    "### Import basic requirements\n",
    "\n",
    "# Public modules\n",
    "import numpy as np\n",
    "import pandas as pd\n",
    "from tqdm.notebook import tqdm as tb\n",
    "\n",
    "# Self-made utils\n",
    "from Utils import ss_utils as ss \n",
    "from Utils import ss_database as db\n"
   ]
  },
  {
   "cell_type": "code",
   "execution_count": 2,
   "metadata": {},
   "outputs": [
    {
     "name": "stdout",
     "output_type": "stream",
     "text": [
      "Virus ID order is correct.\n"
     ]
    }
   ],
   "source": [
    "# Input major csv files to find out genomes with errors\n",
    "ALL_VIRUS_info = pd.read_csv('Data//ALL_VIRUS_info.csv')\n",
    "ALL_VIRUS_CODON_USAGE_sum = pd.read_csv('Data//ALL_VIRUS_CODON_USAGE_sum.csv')\n",
    "ALL_VIRUS_CDS_error = pd.read_csv('Data//ALL_VIRUS_CDS_error.csv')\n",
    "\n",
    "ALL_VIRUS_CODON_USAGE = pd.read_csv('Data//ALL_VIRUS_CODON_USAGE.csv')\n",
    "ALL_VIRUS_AA_USAGE = pd.read_csv('Data//ALL_VIRUS_AA_USAGE.csv')\n",
    "ALL_VIRUS_RSCU = pd.read_csv('Data//ALL_VIRUS_RSCU.csv')\n",
    "\n",
    "ALL_VIRUS_hosts = pd.read_csv('Data//ALL_VIRUS_hosts.csv')\n",
    "ALL_VIRUS_cds_length = pd.read_csv('Data//ALL_VIRUS_genome_length.csv')\n",
    "ALL_VIRUS_ATGC = pd.read_csv('Data//ALL_VIRUS_ATGC.csv')\n",
    "ALL_VIRUS_start_stop = pd.read_csv('Data//ALL_VIRUS_start_stop.csv')\n",
    "ALL_VIRUS_Human_Corr = pd.read_csv('Data//ALL_VIRUS_Human_Corr.csv')\n",
    "ALL_VIRUS_Human_Corr_AA = pd.read_csv('Data//ALL_VIRUS_Human_Corr_AA.csv')\n",
    "\n",
    "# Verify the virus order is correct\n",
    "ss.verify_id_col(ALL_VIRUS_info, \n",
    "                 ALL_VIRUS_CODON_USAGE_sum, \n",
    "                 ALL_VIRUS_CDS_error,\n",
    "                 ALL_VIRUS_CODON_USAGE, \n",
    "                 ALL_VIRUS_AA_USAGE,\n",
    "                 ALL_VIRUS_RSCU, \n",
    "                 ALL_VIRUS_hosts,\n",
    "                 ALL_VIRUS_cds_length,\n",
    "                 ALL_VIRUS_ATGC,\n",
    "                 ALL_VIRUS_start_stop,\n",
    "                 ALL_VIRUS_Human_Corr,\n",
    "                 ALL_VIRUS_Human_Corr_AA)\n"
   ]
  },
  {
   "cell_type": "code",
   "execution_count": 3,
   "metadata": {},
   "outputs": [],
   "source": [
    "### Extract intereted virus genomes \n",
    "\n",
    "# Select complete virus genome - for consistent comparison of the whole virus genomes\n",
    "# Select codon usage sum larger than 0.9 - discard genome sequences containing to much non-ATGC nucleotides\n",
    "# Select genomes containing no CDS with length unable to be divided by 3 \n",
    "ind_final = (\n",
    "    ALL_VIRUS_info['RefSeq type'] == 'complete') & (   \n",
    "    ALL_VIRUS_CODON_USAGE_sum['CU_sum'] >= 0.9) & (\n",
    "    ALL_VIRUS_CDS_error['CDS_error'] == 'no'\n",
    "    )\n"
   ]
  },
  {
   "cell_type": "code",
   "execution_count": 4,
   "metadata": {},
   "outputs": [],
   "source": [
    "### Extract selected columns for later training models\n",
    "\n",
    "# Dataframe of codon usage\n",
    "df_cu = ALL_VIRUS_CODON_USAGE.loc[ind_final, db.CU_valid_codon_list]\n",
    "df_cu = ss.rename_dataset_columns(df_cu, 'CU')\n",
    "\n",
    "# Dataframe of amino acid usage\n",
    "df_aau = ALL_VIRUS_AA_USAGE.loc[ind_final, db.AAU_valid_codon_list]\n",
    "df_aau = ss.rename_dataset_columns(df_aau, 'AAU')\n",
    "\n",
    "# Dataframe of RSCU\n",
    "df_rscu = ALL_VIRUS_RSCU.loc[ind_final, db.RSCU_valid_codon_list]\n",
    "df_rscu = ss.rename_dataset_columns(df_rscu, 'RSCU')\n",
    "\n",
    "# Dataframe of id/acession information\n",
    "df_info = ALL_VIRUS_info.loc[ind_final, ['id', 'Accession']]\n",
    "df_info = df_info.reset_index(drop=True)\n",
    "\n",
    "# Dataframe of virus host ranges\n",
    "host_list = ALL_VIRUS_hosts.columns.tolist()\n",
    "host_list.remove('id')\n",
    "df_host = ALL_VIRUS_hosts.loc[ind_final, host_list]\n",
    "df_host = df_host.reset_index(drop=True)\n",
    "\n",
    "# Dataframe of monopartite or multipartite\n",
    "df_partite_temp = ALL_VIRUS_info.loc[ind_final, ['Virus type', 'Number of segments']]\n",
    "df_partite_temp.columns = ['partite', 'n_segments']\n",
    "df_partite = ss.taxonomy_encoder(df_partite_temp[['partite']], 'Unclassified')\n",
    "df_partite['n_segments'] = df_partite_temp['n_segments']\n",
    "\n",
    "# Dataframe of CDS length\n",
    "df_cds_len = ALL_VIRUS_cds_length.loc[ind_final, ['genome_length', 'contenCDS_length', 'cds_count', 'cds_length_mean', 'cds_length_std']]\n",
    "df_cds_len = df_cds_len.reset_index(drop=True)\n",
    "\n",
    "# Dataframe of ATGC \n",
    "df_atgc = ALL_VIRUS_ATGC.loc[ind_final, ['A%', 'T%', 'G%', 'C%', 'AT%', 'GC%']]\n",
    "df_atgc = df_atgc.reset_index(drop=True)\n",
    "\n",
    "# Dataframe of Start-stop codons \n",
    "df_stst = ALL_VIRUS_start_stop.loc[ind_final, ['ATG%', 'TAA%', 'TAG%', 'TGA%', 'human_start%', 'not_human_start%', 'human_stop%', 'not_human_stop%']]\n",
    "df_stst = df_stst.reset_index(drop=True)\n",
    "\n",
    "# Dataframe of correlation to human \n",
    "df_hs_corr = ALL_VIRUS_Human_Corr.loc[ind_final, ['homo_sapiens_CU_corr', 'homo_sapiens_AAU_corr', 'homo_sapiens_RSCU_corr']]\n",
    "df_hs_corr = df_hs_corr.reset_index(drop=True)\n",
    "\n",
    "# Dataframe of correlation to human amino acid\n",
    "corr_aa_list = ALL_VIRUS_Human_Corr_AA.columns.tolist()\n",
    "corr_aa_list.remove('id')\n",
    "df_hs_corr_aa = ALL_VIRUS_Human_Corr_AA.loc[ind_final, corr_aa_list]\n",
    "df_hs_corr_aa = df_hs_corr_aa.reset_index(drop=True)\n",
    "df_hs_corr_aa = df_hs_corr_aa.fillna(0)\n"
   ]
  },
  {
   "cell_type": "code",
   "execution_count": 5,
   "metadata": {},
   "outputs": [],
   "source": [
    "### Save all the RTG data\n",
    "ss.save_file(df_cu, 'RTG_Data//ALL_VIRUS//CU')\n",
    "ss.save_file(df_aau, 'RTG_Data//ALL_VIRUS//AAU')\n",
    "ss.save_file(df_rscu, 'RTG_Data//ALL_VIRUS//RSCU')\n",
    "\n",
    "ss.save_file(df_info, 'RTG_Data//ALL_VIRUS//INFO')\n",
    "ss.save_file(df_host, 'RTG_Data//ALL_VIRUS//HOST')\n",
    "ss.save_file(df_partite, 'RTG_Data//ALL_VIRUS//PARTITE')\n",
    "ss.save_file(df_cds_len, 'RTG_Data//ALL_VIRUS//CDS_LENGTH')\n",
    "ss.save_file(df_atgc, 'RTG_Data//ALL_VIRUS//ATGC')\n",
    "ss.save_file(df_stst, 'RTG_Data//ALL_VIRUS//START_STOP')\n",
    "\n",
    "ss.save_file(df_hs_corr, 'RTG_Data//ALL_VIRUS//HS_CORR')\n",
    "ss.save_file(df_hs_corr_aa, 'RTG_Data//ALL_VIRUS//HS_CORR_AA')"
   ]
  },
  {
   "cell_type": "code",
   "execution_count": null,
   "metadata": {},
   "outputs": [],
   "source": []
  },
  {
   "cell_type": "code",
   "execution_count": null,
   "metadata": {},
   "outputs": [],
   "source": []
  },
  {
   "cell_type": "code",
   "execution_count": null,
   "metadata": {},
   "outputs": [],
   "source": []
  },
  {
   "cell_type": "code",
   "execution_count": null,
   "metadata": {},
   "outputs": [],
   "source": []
  },
  {
   "cell_type": "code",
   "execution_count": null,
   "metadata": {},
   "outputs": [],
   "source": []
  },
  {
   "cell_type": "code",
   "execution_count": null,
   "metadata": {},
   "outputs": [],
   "source": []
  },
  {
   "cell_type": "code",
   "execution_count": null,
   "metadata": {},
   "outputs": [],
   "source": []
  }
 ],
 "metadata": {
  "kernelspec": {
   "display_name": "base",
   "language": "python",
   "name": "python3"
  },
  "language_info": {
   "codemirror_mode": {
    "name": "ipython",
    "version": 3
   },
   "file_extension": ".py",
   "mimetype": "text/x-python",
   "name": "python",
   "nbconvert_exporter": "python",
   "pygments_lexer": "ipython3",
   "version": "3.9.12"
  },
  "orig_nbformat": 4
 },
 "nbformat": 4,
 "nbformat_minor": 2
}
