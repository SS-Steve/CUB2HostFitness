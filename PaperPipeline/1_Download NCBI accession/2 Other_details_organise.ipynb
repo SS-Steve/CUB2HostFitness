{
 "cells": [
  {
   "attachments": {},
   "cell_type": "markdown",
   "metadata": {},
   "source": [
    "### Import basic requirements"
   ]
  },
  {
   "cell_type": "code",
   "execution_count": 2,
   "metadata": {},
   "outputs": [],
   "source": [
    "### Import basic requirements\n",
    "\n",
    "# Public modules\n",
    "import numpy as np\n",
    "import pandas as pd\n",
    "from tqdm.notebook import tqdm as tb\n",
    "\n",
    "# Self-made utils\n",
    "from Utils import ss_utils as ss \n",
    "from Utils import ss_database as db\n"
   ]
  },
  {
   "attachments": {},
   "cell_type": "markdown",
   "metadata": {},
   "source": [
    "### 1. ALL_VIRUS_DATABASE.pickle to ALL_VIRUS_DATABASE.csv and ALL_VIRUS_info.csv"
   ]
  },
  {
   "cell_type": "code",
   "execution_count": 6,
   "metadata": {},
   "outputs": [],
   "source": [
    "### 1. ALL_VIRUS_DATABASE.pickle to ALL_VIRUS_DATABASE.csv and ALL_VIRUS_info.csv\n",
    "\n",
    "# Input ALL_VIRUS_DATABASE.pickle\n",
    "ALL_VIRUS_DATABASE = ss.database_load('Data//ALL_VIRUS_DATABASE')\n",
    "\n",
    "# Orgainse information into dataframe\n",
    "dict_res_raw = {}\n",
    "dict_res_extra = {}\n",
    "c = 0\n",
    "for virus, info_dict in ALL_VIRUS_DATABASE.items():\n",
    "    # Organise raw data\n",
    "    res_t = {'id':virus}\n",
    "    res_t.update(info_dict)\n",
    "    dict_res_raw[c] = res_t\n",
    "\n",
    "    # Organise to useful data\n",
    "    res_t_extra = {'id':virus,\n",
    "                   'Accession':info_dict['Accession'],\n",
    "                   'RefSeq type':info_dict['RefSeq type']}\n",
    "    # Monopartite virus\n",
    "    if info_dict['Number of segments'] == '-':\n",
    "        res_t_extra['Virus type'] = 'monopartite'\n",
    "        res_t_extra['Segment'] = 'non-segmented'\n",
    "        res_t_extra['Number of segments'] = 1\n",
    "        res_t_extra['Genome length'] = int(info_dict['Genome length'].split(' nt')[0])\n",
    "        try:\n",
    "            res_t_extra['Number of proteins'] = int(info_dict['Number of proteins'])\n",
    "        except:\n",
    "            res_t_extra['Number of proteins'] = info_dict['Number of proteins']\n",
    "    # Multipartite virus\n",
    "    else:\n",
    "        res_t_extra['Virus type'] = 'multipartite'\n",
    "        res_t_extra['Segment'] = 'segmented'\n",
    "        res_t_extra['Number of segments'] = int(info_dict['Number of segments'])\n",
    "        res_t_extra['Genome length'] = int(info_dict['Genome length'][0].split(' nt')[0])\n",
    "        try:\n",
    "            res_t_extra['Number of proteins'] = int(info_dict['Number of proteins'][0])\n",
    "        except:\n",
    "            res_t_extra['Number of proteins'] = info_dict['Number of proteins'][0]\n",
    "\n",
    "    dict_res_extra[c] = res_t_extra\n",
    "    c += 1\n",
    "\n",
    "# Save both data\n",
    "df_res_raw = pd.DataFrame.from_dict(dict_res_raw, 'index')\n",
    "ss.save_file(df_res_raw, 'Data//ALL_VIRUS_DATABASE')\n",
    "\n",
    "df_res_extra = pd.DataFrame.from_dict(dict_res_extra, 'index')\n",
    "ss.save_file(df_res_extra, 'Data//ALL_VIRUS_info')\n"
   ]
  },
  {
   "attachments": {},
   "cell_type": "markdown",
   "metadata": {},
   "source": [
    "### 2. ALL_VIRUS_DATABASE.pickle to ALL_VIRUS_HOST.csv"
   ]
  },
  {
   "cell_type": "code",
   "execution_count": 3,
   "metadata": {},
   "outputs": [],
   "source": [
    "### 2. ALL_VIRUS_DATABASE.pickle to ALL_VIRUS_HOST.csv\n",
    "\n",
    "# Load organised information from ALL_VIRUS_DATABASE.pickle\n",
    "ALL_VIRUS_DATABASE = ss.database_load('Data//ALL_VIRUS_DATABASE')\n",
    "\n",
    "# Main\n",
    "host_total_list = []\n",
    "dict_out = {}\n",
    "for i in ALL_VIRUS_DATABASE:\n",
    "    host_list = ALL_VIRUS_DATABASE[i]['Host']\n",
    "    dict_out[i] = host_list\n",
    "    for host in host_list:\n",
    "        if host not in host_total_list:\n",
    "            host_total_list.append(host)\n",
    "\n",
    "# Checking empty host list\n",
    "for i in dict_out:\n",
    "    if len(dict_out[i]) == 0:\n",
    "        print (i)\n",
    "# No empty found\n",
    "\n",
    "# Summarise the information into a dataframe\n",
    "dict_res = {}\n",
    "c = 0\n",
    "for virus, host_list in dict_out.items():\n",
    "    res_t = {'id':virus}\n",
    "    for host in host_total_list:\n",
    "        if host in host_list:\n",
    "            res_t[host] = host\n",
    "        else:\n",
    "            res_t[host] = f\"not_{host}\"\n",
    "    dict_res[c] = res_t\n",
    "    c += 1\n",
    "\n",
    "# Save csv file\n",
    "df_res = pd.DataFrame.from_dict(dict_res, 'index')\n",
    "ss.save_file(df_res, 'Data//ALL_VIRUS_hosts.csv')"
   ]
  },
  {
   "cell_type": "code",
   "execution_count": null,
   "metadata": {},
   "outputs": [],
   "source": []
  },
  {
   "cell_type": "code",
   "execution_count": null,
   "metadata": {},
   "outputs": [],
   "source": []
  },
  {
   "cell_type": "code",
   "execution_count": null,
   "metadata": {},
   "outputs": [],
   "source": []
  },
  {
   "cell_type": "code",
   "execution_count": null,
   "metadata": {},
   "outputs": [],
   "source": []
  },
  {
   "cell_type": "code",
   "execution_count": null,
   "metadata": {},
   "outputs": [],
   "source": []
  },
  {
   "cell_type": "code",
   "execution_count": null,
   "metadata": {},
   "outputs": [],
   "source": []
  },
  {
   "cell_type": "code",
   "execution_count": null,
   "metadata": {},
   "outputs": [],
   "source": []
  }
 ],
 "metadata": {
  "kernelspec": {
   "display_name": "base",
   "language": "python",
   "name": "python3"
  },
  "language_info": {
   "codemirror_mode": {
    "name": "ipython",
    "version": 3
   },
   "file_extension": ".py",
   "mimetype": "text/x-python",
   "name": "python",
   "nbconvert_exporter": "python",
   "pygments_lexer": "ipython3",
   "version": "3.9.12"
  },
  "orig_nbformat": 4
 },
 "nbformat": 4,
 "nbformat_minor": 2
}
