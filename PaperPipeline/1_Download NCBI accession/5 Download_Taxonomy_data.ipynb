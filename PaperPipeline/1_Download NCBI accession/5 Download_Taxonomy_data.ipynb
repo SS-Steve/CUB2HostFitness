{
 "cells": [
  {
   "attachments": {},
   "cell_type": "markdown",
   "metadata": {},
   "source": [
    "### Import basic requirements"
   ]
  },
  {
   "cell_type": "code",
   "execution_count": 1,
   "metadata": {},
   "outputs": [],
   "source": [
    "### Import basic requirements\n",
    "\n",
    "# Public modules\n",
    "import numpy as np\n",
    "import pandas as pd\n",
    "from tqdm.notebook import tqdm as tb\n",
    "\n",
    "# Self-made utils\n",
    "from Utils import ss_utils as ss \n",
    "from Utils import ss_database as db\n"
   ]
  },
  {
   "attachments": {},
   "cell_type": "markdown",
   "metadata": {},
   "source": [
    "### 1. Search and Download NCBI Taxonomy IDs of viruses"
   ]
  },
  {
   "cell_type": "code",
   "execution_count": 2,
   "metadata": {},
   "outputs": [],
   "source": [
    "### 1. Search and Download NCBI Taxonomy IDs of viruses\n",
    "\n",
    "# Load virus names \n",
    "INFO = ss.load_RTG_Data('INFO')\n",
    "id_dict = INFO['id'].to_dict()\n",
    "\n",
    "# Define function for multi-threading\n",
    "def PROCESS(ind)\n",
    "\n",
    "    ID = id_dict[ind]\n",
    "\n",
    "    # Search taxonomy IDs from NCBI according to virus name\n",
    "    res = ss.taxonomy_search(ID)\n",
    "    \n",
    "    # Organise into output\n",
    "    if len(res) == 1\n",
    "        clean = res[0]\n",
    "    else\n",
    "        clean = ''\n",
    "    output = {'ind'ind, 'id'ID, 'Taxonomy_id'res, 'clean_id'clean}\n",
    "\n",
    "    return output\n",
    "\n",
    "# Iteration list for multi-threading\n",
    "RUN_LIST = list(id_dict.keys())\n",
    "\n",
    "# Define multi-threading function\n",
    "import concurrent.futures\n",
    "from tqdm import tqdm\n",
    "def run_in_threads(process, data, num_threads)\n",
    "    with concurrent.futures.ThreadPoolExecutor(max_workers=num_threads) as executor\n",
    "        results = list(tqdm(executor.map(process, data), total=len(data)))\n",
    "    return results\n",
    "\n",
    "# Run multi-threading function to download NCBI Taxonomy IDs of viruses\n",
    "c = 0\n",
    "FINAL_RESULT = {}\n",
    "for _RESULT_ in run_in_threads(PROCESS, RUN_LIST, num_threads=3)\n",
    "    FINAL_RESULT[c] = _RESULT_\n",
    "    c += 1\n",
    "\n",
    "# Save the downloaded NCBI Taxonomy IDs of viruses\n",
    "df_res = pd.DataFrame.from_dict(FINAL_RESULT, 'index')\n",
    "ss.save_file(df_res, 'Data_Taxonomy//df_FINAL_RESULT')\n",
    "\n",
    "# Save the WRONG downloaded NCBI Taxonomy IDs of viruses\n",
    "df_wrong = df_res[df_res['clean_id'] == ''].reset_index(drop=True)\n",
    "ss.save_file(df_wrong, 'Data_Taxonomy//df_wrong_FINAL_RESULT')"
   ]
  },
  {
   "attachments": {},
   "cell_type": "markdown",
   "metadata": {},
   "source": [
    "### 2. Manually search NCBI Taxonomy browser to correct the wrong ids"
   ]
  },
  {
   "cell_type": "code",
   "execution_count": null,
   "metadata": {},
   "outputs": [],
   "source": [
    "### 2. Manually search NCBI Taxonomy browser to correct the wrong ids\n",
    "\n",
    "# NCBI Taxonomy browser : https://www.ncbi.nlm.nih.gov/Taxonomy/Browser/wwwtax.cgi?mode=Tree&id=10239&lvl=3&keep=1&srchmode=1&unlock\n",
    "\n",
    "# Save as 'df_wrong_FINAL_RESULT - Manually-search.csv'\n",
    "\n",
    "\n",
    "### Summerising the q\n",
    "df_man = ss.input_file('Data_Taxonomy//df_wrong_FINAL_RESULT - Manually-search')\n",
    "man_ind_list = df_man['ind'].tolist()\n",
    "\n",
    "df_added = ss.input_file('Data_Taxonomy//df_FINAL_RESULT')\n",
    "\n",
    "for i in range(df_res.shape[0]):\n",
    "    if i in man_ind_list:\n",
    "        if df_added.loc[i, 'id'] == df_man[df_man['ind'] == i]['id'].tolist()[0] and df_added.loc[i, 'clean_id'] == '':\n",
    "            df_added.loc[i, 'clean_id'] = df_man[df_man['ind'] == i]['manually_search_id'].tolist()[0]\n",
    "        else:\n",
    "            raise ValueError('Wrong')\n",
    "    else:\n",
    "        pass\n",
    "    \n",
    "df_added['clean_id'] = df_added['clean_id'].astype(int)\n",
    "\n",
    "# Save the final id list\n",
    "ss.save_file(df_added, 'Data_Taxonomy//df_Taxonomy_id')\n"
   ]
  },
  {
   "attachments": {},
   "cell_type": "markdown",
   "metadata": {},
   "source": [
    "### 3. Download Taxonomy Data from NCBI according to NCBI Taxonomy IDs"
   ]
  },
  {
   "cell_type": "code",
   "execution_count": null,
   "metadata": {},
   "outputs": [],
   "source": [
    "### 3. Download Taxonomy Data from NCBI according to NCBI Taxonomy IDs\n",
    "\n",
    "# ID list\n",
    "accession_id_list = df_added['clean_id'].tolist()\n",
    "id_list = df_added['id'].tolist()\n",
    "\n",
    "# Download Taxonomy data\n",
    "res = {}\n",
    "c = 0\n",
    "for loc, ID in tb(enumerate(accession_id_list)):\n",
    "    \n",
    "    if c not in res:\n",
    "        name = id_list[loc]\n",
    "        \n",
    "        retry_n = 1\n",
    "        while True:\n",
    "            try:\n",
    "                tax_dict = ss.taxonomy_lineage_download(ID)\n",
    "                break\n",
    "            except:\n",
    "                print(f\"Retry: {retry_n} - {ID} - {name}\")\n",
    "                retry_n += 1\n",
    "                time.sleep(3)\n",
    "\n",
    "        res_t = {'id'       :name,\n",
    "                 'accession':ID}\n",
    "        res_t.update(tax_dict)\n",
    "\n",
    "        res[c] = res_t\n",
    "    c += 1\n",
    "    \n",
    "# Clean mistake of the downloaded data\n",
    "res_clean = {}\n",
    "for loc, res_dict in res.items():\n",
    "    if 'clade' in res_dict and 'kingdom' not in res_dict:\n",
    "        res_dict[\"clade-\"] = res_dict.pop(\"clade\")\n",
    "    res_clean[loc] = res_dict\n",
    "    \n",
    "# Convert the data into dataframe\n",
    "df_res = pd.DataFrame.from_dict(res_clean, 'index')\n",
    "ss.save_file(df_res, 'Data_Taxonomy//df_taxonomy_raw')\n",
    "\n",
    "\n",
    "\n",
    "### Organise the downloaded data and save\n",
    "df_taxonomy_raw = ss.input_file('Data_Taxonomy//df_taxonomy_raw')\n",
    "\n",
    "df_tax = df_taxonomy_raw[['id', 'superkingdom', 'clade', 'kingdom', 'phylum', 'class', 'order', 'family', 'genus']]\n",
    "\n",
    "for col in df_tax.columns:\n",
    "    df_tax[col].fillna('Unclassified', inplace=True)\n",
    "\n",
    "ss.save_file(df_tax, 'Data_Taxonomy//df_taxonomy')\n",
    "ss.save_file(df_tax, 'RTG_Data//ALL_VIRUS//TAXONOMY_RAW')\n",
    "\n",
    "# Confirm the ID are identical\n",
    "INFO = ss.load_RTG_Data('INFO')\n",
    "print (INFO['id'].tolist() == df_tax['id'].tolist())\n",
    "# True"
   ]
  },
  {
   "attachments": {},
   "cell_type": "markdown",
   "metadata": {},
   "source": [
    "### 4. Encode Taxonomy data into Train-Ready data"
   ]
  },
  {
   "cell_type": "code",
   "execution_count": null,
   "metadata": {},
   "outputs": [],
   "source": [
    "### 4. Encode Taxonomy data into Train-Ready data\n",
    "\n",
    "df_taxonomy = ss.input_file('Data_Taxonomy//df_taxonomy')\n",
    "\n",
    "# Check the id\n",
    "INFO = ss.load_RTG_Data('INFO')\n",
    "print (INFO['id'].tolist() == df_taxonomy['id'].tolist())\n",
    "# True\n",
    "\n",
    "# Encode the Taxonomy data\n",
    "df_tax = df_taxonomy[['clade', 'kingdom', 'phylum', 'class', 'order', 'family']]\n",
    "df_out = ss.taxonomy_encoder(df_tax, 'Unclassified')\n",
    "\n",
    "# Save data\n",
    "ss.save_file(df_out, 'RTG_Data//ALL_VIRUS//TAXONOMY')"
   ]
  },
  {
   "cell_type": "code",
   "execution_count": null,
   "metadata": {},
   "outputs": [],
   "source": []
  },
  {
   "cell_type": "code",
   "execution_count": null,
   "metadata": {},
   "outputs": [],
   "source": []
  },
  {
   "cell_type": "code",
   "execution_count": null,
   "metadata": {},
   "outputs": [],
   "source": []
  },
  {
   "cell_type": "code",
   "execution_count": null,
   "metadata": {},
   "outputs": [],
   "source": []
  },
  {
   "cell_type": "code",
   "execution_count": null,
   "metadata": {},
   "outputs": [],
   "source": []
  }
 ],
 "metadata": {
  "kernelspec": {
   "display_name": "base",
   "language": "python",
   "name": "python3"
  },
  "language_info": {
   "codemirror_mode": {
    "name": "ipython",
    "version": 3
   },
   "file_extension": ".py",
   "mimetype": "text/x-python",
   "name": "python",
   "nbconvert_exporter": "python",
   "pygments_lexer": "ipython3",
   "version": "3.9.12"
  },
  "orig_nbformat": 4
 },
 "nbformat": 4,
 "nbformat_minor": 2
}
