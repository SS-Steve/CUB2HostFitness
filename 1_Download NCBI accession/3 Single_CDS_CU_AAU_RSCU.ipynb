{
 "cells": [
  {
   "attachments": {},
   "cell_type": "markdown",
   "metadata": {},
   "source": [
    "### Import basic requirements"
   ]
  },
  {
   "cell_type": "code",
   "execution_count": 1,
   "metadata": {},
   "outputs": [],
   "source": [
    "### Import basic requirements\n",
    "\n",
    "# Public modules\n",
    "import numpy as np\n",
    "import pandas as pd\n",
    "from tqdm.notebook import tqdm as tb\n",
    "\n",
    "# Self-made utils\n",
    "from Utils import ss_utils as ss \n",
    "from Utils import ss_database as db\n"
   ]
  },
  {
   "attachments": {},
   "cell_type": "markdown",
   "metadata": {},
   "source": [
    "### 1. ALL_VIRUS_DATABASE.pickle to ALL_VIRUS_ALL_CDS_DETAIL.pickle"
   ]
  },
  {
   "cell_type": "code",
   "execution_count": null,
   "metadata": {},
   "outputs": [],
   "source": [
    "### 1. ALL_VIRUS_DATABASE.pickle to ALL_VIRUS_ALL_CDS_DETAIL.pickle\n",
    "\n",
    "# Input ALL_VIRUS_DATABASE.pickle\n",
    "ALL_VIRUS_DATABASE = ss.database_load('Data//ALL_VIRUS_DATABASE')\n",
    "\n",
    "# Initiate variables\n",
    "dict_t = {}\n",
    "dict_split_list = {}\n",
    "dict_final = {}\n",
    "finish_list = []\n",
    "\n",
    "virus_list = list(ALL_VIRUS_DATABASE.keys())\n",
    "virus_list_run = ss.list_remove_list(virus_list,finish_list)\n",
    "\n",
    "for i in virus_list_run:\n",
    "    accession = ALL_VIRUS_DATABASE[i]['Accession']\n",
    "\n",
    "    # Monopartite virus\n",
    "    if isinstance(accession, str):\n",
    "        all_cds_com = {}\n",
    "        all_cds = ss.get_all_cds_detail(accession) \n",
    "        all_cds_com[accession] = all_cds\n",
    "        dict_t[i] = all_cds_com\n",
    "    \n",
    "    # Multipartite virus\n",
    "    elif isinstance(accession, list):\n",
    "        all_cds_seg = {}\n",
    "        for j in accession:\n",
    "            all_cds_seg0 = ss.get_all_cds_detail(j)\n",
    "            all_cds_seg1 = {j:all_cds_seg0}\n",
    "            all_cds_seg = ss.merge_dict(all_cds_seg,all_cds_seg1)\n",
    "        dict_t[i] = all_cds_seg\n",
    "\n",
    "    dict_final = ss.merge_dict(dict_final, dict_t)\n",
    "    dict_t = {}\n",
    "    finish_list.append(i)\n",
    "\n",
    "# Save \n",
    "ss.database_save(dict_final, 'Data//ALL_VIRUS_ALL_CDS_DETAIL')"
   ]
  },
  {
   "cell_type": "code",
   "execution_count": null,
   "metadata": {},
   "outputs": [],
   "source": [
    "### 1. check empty\n",
    "dict_final = ss.database_load('Data//ALL_VIRUS_ALL_CDS_DETAIL')\n",
    "empty_list = []\n",
    "\n",
    "for i in dict_final:\n",
    "    for j in dict_final[i]:\n",
    "        if len(dict_final[i][j]) == 0:\n",
    "            empty_list.append(i)"
   ]
  },
  {
   "attachments": {},
   "cell_type": "markdown",
   "metadata": {},
   "source": [
    "### 2. ALL_VIRUS_ALL_CDS_DETAIL.pickle to ALL_VIRUS_ALL_CDS.pickle"
   ]
  },
  {
   "cell_type": "code",
   "execution_count": 18,
   "metadata": {},
   "outputs": [],
   "source": [
    "### 2. ALL_VIRUS_ALL_CDS_DETAIL.pickle to ALL_VIRUS_ALL_CDS.pickle\n",
    "\n",
    "# Input ALL_VIRUS_ALL_CDS_DETAIL.pickle\n",
    "ACD = ss.database_load('Data//ALL_VIRUS_ALL_CDS_DETAIL')\n",
    "ACD = ss.dict_head(ACD, 3)\n",
    "\n",
    "# Main\n",
    "dict_out = {}\n",
    "dict_virus = {}\n",
    "dict_t = {}\n",
    "\n",
    "for i in ACD:\n",
    "    for j in ACD[i]:\n",
    "        for k in ACD[i][j]:\n",
    "            cds = ACD[i][j][k]['mRNA_sequence']\n",
    "            dict_t[k] = cds\n",
    "        dict_virus[j] = dict_t\n",
    "        dict_t = {}\n",
    "    dict_out[i] = dict_virus\n",
    "    dict_virus = {}\n",
    "\n",
    "# Save\n",
    "ss.database_save(dict_out, 'Data//ALL_VIRUS_ALL_CDS')\n"
   ]
  },
  {
   "attachments": {},
   "cell_type": "markdown",
   "metadata": {},
   "source": [
    "### 3. ALL_VIRUS_ALL_CDS.pickle to ALL_VIRUS_ALL_CDS_SIMPLE.pickle"
   ]
  },
  {
   "cell_type": "code",
   "execution_count": 21,
   "metadata": {},
   "outputs": [],
   "source": [
    "### 3. ALL_VIRUS_ALL_CDS.pickle to ALL_VIRUS_ALL_CDS_SIMPLE.pickle\n",
    "\n",
    "# Input ALL_VIRUS_ALL_CDS,pickle\n",
    "ALL_VIRUS_ALL_CDS = ss.database_load('Data//ALL_VIRUS_ALL_CDS')\n",
    "ALL_VIRUS_ALL_CDS = ss.dict_head(ALL_VIRUS_ALL_CDS, 3)\n",
    "\n",
    "# Main\n",
    "OUTPUT = {}\n",
    "for virus, accession_dict in ALL_VIRUS_ALL_CDS.items():\n",
    "    cds_list = []\n",
    "    for accession, cds_dict in accession_dict.items():\n",
    "        for _, cds in cds_dict.items():\n",
    "            cds_list.append(cds)\n",
    "    OUTPUT[virus] = cds_list\n",
    "\n",
    "# Save\n",
    "ss.database_save(OUTPUT, 'Data//ALL_VIRUS_ALL_CDS_SIMPLE')"
   ]
  },
  {
   "attachments": {},
   "cell_type": "markdown",
   "metadata": {},
   "source": [
    "### 4. ALL_VIRUS_ALL_CDS_SIMPLE.pickle to ALL_VIRUS_CDS_Length.csv and ALL_VIRUS_CDS_error.csv"
   ]
  },
  {
   "cell_type": "code",
   "execution_count": 41,
   "metadata": {},
   "outputs": [],
   "source": [
    "### 4. ALL_VIRUS_ALL_CDS_SIMPLE.pickle to ALL_VIRUS_CDS_Length.csv and ALL_VIRUS_CDS_error.csv\n",
    "\n",
    "# Input ALL_VIRUS_ALL_CDS_SIMPLE.pickle\n",
    "ALL_VIRUS_ALL_CDS_SIMPLE = ss.database_load('Data//ALL_VIRUS_ALL_CDS_SIMPLE')\n",
    "\n",
    "# Main\n",
    "dict_res = {}\n",
    "dict_cds_error = {}\n",
    "c = 0\n",
    "for virus, cds_seq_list in ALL_VIRUS_ALL_CDS_SIMPLE.items():\n",
    "    cds_len_list = []\n",
    "\n",
    "    cds_error = 'no'\n",
    "    for cds_seq in cds_seq_list:\n",
    "        cds_len_list.append(len(cds_seq))\n",
    "\n",
    "        # Find error sequences (Sequence length cannot divide by 3)\n",
    "        if len(cds_seq) % 3 != 0:\n",
    "            cds_error = 'yes'\n",
    "            \n",
    "    dis_data = ss.discriptive_data(cds_len_list)\n",
    "    res_t = {'id'                 :virus,\n",
    "             'contenCDS_length'   :dis_data['sum'],\n",
    "             'cds_count'          :dis_data['count'],\n",
    "             'cds_length_mean'    :dis_data['mean'],\n",
    "             'cds_length_std'     :dis_data['std'],\n",
    "             'cds_length_median'  :dis_data['median'],\n",
    "             'cds_length_variance':dis_data['variance']}\n",
    "\n",
    "    dict_res[c] = res_t\n",
    "    error_t = {'id':virus,\n",
    "               'CDS_error':cds_error}\n",
    "    dict_cds_error[c] = error_t\n",
    "    c += 1\n",
    "\n",
    "# Turn into dataframe\n",
    "df_res = pd.DataFrame.from_dict(dict_res, 'index')\n",
    "df_cds_error = pd.DataFrame.from_dict(dict_cds_error, 'index')\n",
    "\n",
    "# Add Genome length of virus\n",
    "ALL_VIRUS_info = pd.read_csv('Data//ALL_VIRUS_info.csv')\n",
    "df_res['genome_length'] = ALL_VIRUS_info['Genome length']\n",
    "\n",
    "# Save\n",
    "ss.save_file(df_res, 'Data//ALL_VIRUS_genome_length')\n",
    "ss.save_file(df_cds_error, 'Data//ALL_VIRUS_CDS_error')"
   ]
  },
  {
   "attachments": {},
   "cell_type": "markdown",
   "metadata": {},
   "source": [
    "### 5. ALL_VIRUS_ALL_CDS_SIMPLE.pickle to ALL_VIRUS_start_stop.csv"
   ]
  },
  {
   "cell_type": "code",
   "execution_count": 23,
   "metadata": {},
   "outputs": [],
   "source": [
    "### 5. ALL_VIRUS_ALL_CDS_SIMPLE.pickle to ALL_VIRUS_start_stop.csv\n",
    "\n",
    "# Input ALL_VIRUS_ALL_CDS_SIMPLE.pickle\n",
    "ALL_VIRUS_ALL_CDS_SIMPLE = ss.database_load('Data//ALL_VIRUS_ALL_CDS_SIMPLE')\n",
    "\n",
    "# Main \n",
    "dict_res = {}\n",
    "c = 0\n",
    "for virus, cds_seq_list in ALL_VIRUS_ALL_CDS_SIMPLE.items():\n",
    "    \n",
    "    n_total_cds = len(cds_seq_list)\n",
    "    res_t = {'id':virus, 'cds_number':n_total_cds}\n",
    "\n",
    "    # Initiate variables\n",
    "    dict_cal = {'ATG#':0, 'TAA#':0, 'TAG#':0, 'TGA#':0, 'human_start#':0, 'not_human_start#':0, 'human_stop#':0, 'not_human_stop#':0}\n",
    "    not_human_start_list, not_human_stop_list = [], []\n",
    "\n",
    "    for cds_seq in cds_seq_list:\n",
    "\n",
    "        # Find start or stop codons of each cds \n",
    "        start = cds_seq[:3]\n",
    "        stop = cds_seq[-3:]\n",
    "\n",
    "        # Start codon\n",
    "        if f\"{start}#\" in dict_cal:\n",
    "            dict_cal[f\"{start}#\"] += 1\n",
    "            dict_cal['human_start#'] += 1\n",
    "        else:\n",
    "            dict_cal['not_human_start#'] += 1\n",
    "            not_human_start_list.append(start)\n",
    "\n",
    "        # Stop codon \n",
    "        if f\"{stop}#\" in dict_cal:\n",
    "            dict_cal[f\"{stop}#\"] += 1\n",
    "            dict_cal['human_stop#'] += 1\n",
    "        else:\n",
    "            dict_cal['not_human_stop#'] += 1\n",
    "            not_human_stop_list.append(stop)\n",
    "\n",
    "        # not_human start stop codon list\n",
    "        dict_cal['not_human_start_list'] = not_human_start_list\n",
    "        dict_cal['not_human_stop_list'] = not_human_stop_list\n",
    "    \n",
    "    # Calculate percentages\n",
    "    for key in ['ATG#', 'TAA#', 'TAG#', 'TGA#', 'human_start#', 'not_human_start#', 'human_stop#', 'not_human_stop#']:\n",
    "        new_key = key.replace('#', '%')\n",
    "        if n_total_cds > 0:\n",
    "            dict_cal[new_key] = dict_cal[key] / n_total_cds\n",
    "        else:\n",
    "            dict_cal[new_key] = 0\n",
    "\n",
    "    # Organise into final dictionary\n",
    "    res_t.update(dict_cal)\n",
    "    dict_res[c] = res_t\n",
    "    c += 1\n",
    "        \n",
    "# Save as csv file \n",
    "df_res = pd.DataFrame.from_dict(dict_res, 'index')\n",
    "ss.save_file(df_res, 'Data//ALL_VIRUS_start_stop')\n"
   ]
  },
  {
   "cell_type": "code",
   "execution_count": null,
   "metadata": {},
   "outputs": [],
   "source": []
  },
  {
   "cell_type": "code",
   "execution_count": null,
   "metadata": {},
   "outputs": [],
   "source": []
  },
  {
   "cell_type": "code",
   "execution_count": null,
   "metadata": {},
   "outputs": [],
   "source": []
  },
  {
   "cell_type": "code",
   "execution_count": null,
   "metadata": {},
   "outputs": [],
   "source": []
  },
  {
   "cell_type": "code",
   "execution_count": null,
   "metadata": {},
   "outputs": [],
   "source": []
  }
 ],
 "metadata": {
  "kernelspec": {
   "display_name": "base",
   "language": "python",
   "name": "python3"
  },
  "language_info": {
   "codemirror_mode": {
    "name": "ipython",
    "version": 3
   },
   "file_extension": ".py",
   "mimetype": "text/x-python",
   "name": "python",
   "nbconvert_exporter": "python",
   "pygments_lexer": "ipython3",
   "version": "3.9.12"
  },
  "orig_nbformat": 4
 },
 "nbformat": 4,
 "nbformat_minor": 2
}
